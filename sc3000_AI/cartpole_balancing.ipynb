{
  "cells": [
    {
      "cell_type": "markdown",
      "source": [
        "# **Contributions**\n",
        "\n",
        "Ryan : DQN (Model 1) \\\n",
        "Melvin : Q-learning (Model 2) \\\n",
        "Vivian : Research on DDQN + Detailed annotations + Extracted model into file\n"
      ],
      "metadata": {
        "id": "VBFQo9SbQLmS"
      }
    },
    {
      "cell_type": "markdown",
      "metadata": {
        "id": "ZauhjPSfX7pI"
      },
      "source": [
        "# Tutorial and Sample Code for Balancing a Pole on a Cart"
      ]
    },
    {
      "cell_type": "markdown",
      "metadata": {
        "id": "UBiYOoesYMvr"
      },
      "source": [
        "## Installing dependencies:"
      ]
    },
    {
      "cell_type": "code",
      "execution_count": null,
      "metadata": {
        "colab": {
          "base_uri": "https://localhost:8080/"
        },
        "id": "PbgnVwZmX5uW",
        "outputId": "a23ed696-5f4b-4af9-e78b-9068f5969b0a"
      },
      "outputs": [
        {
          "output_type": "stream",
          "name": "stdout",
          "text": [
            "^C\n",
            "Traceback (most recent call last):\n",
            "  File \"/usr/local/bin/pip3\", line 5, in <module>\n",
            "    from pip._internal.cli.main import main\n",
            "  File \"/usr/local/lib/python3.10/dist-packages/pip/_internal/cli/main.py\", line 10, in <module>\n",
            "    from pip._internal.cli.autocompletion import autocomplete\n",
            "  File \"/usr/local/lib/python3.10/dist-packages/pip/_internal/cli/autocompletion.py\", line 10, in <module>\n",
            "    from pip._internal.cli.main_parser import create_main_parser\n",
            "  File \"/usr/local/lib/python3.10/dist-packages/pip/_internal/cli/main_parser.py\", line 9, in <module>\n",
            "    from pip._internal.build_env import get_runnable_pip\n",
            "  File \"/usr/local/lib/python3.10/dist-packages/pip/_internal/build_env.py\", line 19, in <module>\n",
            "    from pip._internal.cli.spinners import open_spinner\n",
            "  File \"/usr/local/lib/python3.10/dist-packages/pip/_internal/cli/spinners.py\", line 9, in <module>\n",
            "    from pip._internal.utils.logging import get_indentation\n",
            "  File \"/usr/local/lib/python3.10/dist-packages/pip/_internal/utils/logging.py\", line 29, in <module>\n",
            "    from pip._internal.utils.misc import ensure_dir\n",
            "  File \"/usr/local/lib/python3.10/dist-packages/pip/_internal/utils/misc.py\", line 43, in <module>\n",
            "    from pip._internal.exceptions import CommandError, ExternallyManagedEnvironment\n",
            "  File \"/usr/local/lib/python3.10/dist-packages/pip/_internal/exceptions.py\", line 18, in <module>\n",
            "    from pip._vendor.requests.models import Request, Response\n",
            "  File \"/usr/local/lib/python3.10/dist-packages/pip/_vendor/requests/__init__.py\", line 43, in <module>\n",
            "    from pip._vendor import urllib3\n",
            "  File \"/usr/local/lib/python3.10/dist-packages/pip/_vendor/urllib3/__init__.py\", line 13, in <module>\n",
            "    from .connectionpool import HTTPConnectionPool, HTTPSConnectionPool, connection_from_url\n",
            "  File \"/usr/local/lib/python3.10/dist-packages/pip/_vendor/urllib3/connectionpool.py\", line 12, in <module>\n",
            "    from .connection import (\n",
            "  File \"/usr/local/lib/python3.10/dist-packages/pip/_vendor/urllib3/connection.py\", line 15, in <module>\n",
            "    from .util.proxy import create_proxy_ssl_context\n",
            "  File \"/usr/local/lib/python3.10/dist-packages/pip/_vendor/urllib3/util/__init__.py\", line 8, in <module>\n",
            "    from .ssl_ import (\n",
            "  File \"/usr/local/lib/python3.10/dist-packages/pip/_vendor/urllib3/util/ssl_.py\", line 57, in <module>\n",
            "    from .ssltransport import SSLTransport\n",
            "  File \"<frozen importlib._bootstrap>\", line 1027, in _find_and_load\n",
            "  File \"<frozen importlib._bootstrap>\", line 1006, in _find_and_load_unlocked\n",
            "  File \"<frozen importlib._bootstrap>\", line 688, in _load_unlocked\n",
            "  File \"<frozen importlib._bootstrap_external>\", line 879, in exec_module\n",
            "  File \"<frozen importlib._bootstrap_external>\", line 984, in get_code\n",
            "  File \"<frozen importlib._bootstrap_external>\", line 606, in _classify_pyc\n",
            "KeyboardInterrupt\n",
            "^C\n",
            "Requirement already satisfied: setuptools in /usr/local/lib/python3.10/dist-packages (69.2.0)\n",
            "\u001b[31mERROR: Could not find a version that satisfies the requirement torch.nn (from versions: none)\u001b[0m\u001b[31m\n",
            "\u001b[0m\u001b[31mERROR: No matching distribution found for torch.nn\u001b[0m\u001b[31m\n",
            "\u001b[0mCollecting torch.optim\n",
            "  Downloading torch_optim-0.0.4-py3-none-any.whl (59.1 MB)\n",
            "\u001b[2K     \u001b[90m━━━━━━━━━━━━━━━━━━━━━━━━━━━━━━━━━━━━━━━━\u001b[0m \u001b[32m59.1/59.1 MB\u001b[0m \u001b[31m13.0 MB/s\u001b[0m eta \u001b[36m0:00:00\u001b[0m\n",
            "\u001b[?25hCollecting deap>=1.3.1 (from torch.optim)\n",
            "  Downloading deap-1.4.1-cp310-cp310-manylinux_2_5_x86_64.manylinux1_x86_64.manylinux_2_17_x86_64.manylinux2014_x86_64.whl (135 kB)\n",
            "\u001b[2K     \u001b[90m━━━━━━━━━━━━━━━━━━━━━━━━━━━━━━━━━━━━━━━━\u001b[0m \u001b[32m135.4/135.4 kB\u001b[0m \u001b[31m14.8 MB/s\u001b[0m eta \u001b[36m0:00:00\u001b[0m\n",
            "\u001b[?25hCollecting pytorch-ignite>=0.4.8 (from torch.optim)\n",
            "  Downloading pytorch_ignite-0.4.13-py3-none-any.whl (272 kB)\n",
            "\u001b[2K     \u001b[90m━━━━━━━━━━━━━━━━━━━━━━━━━━━━━━━━━━━━━━━━\u001b[0m \u001b[32m272.4/272.4 kB\u001b[0m \u001b[31m26.8 MB/s\u001b[0m eta \u001b[36m0:00:00\u001b[0m\n",
            "\u001b[?25hCollecting thop>=0.0.31 (from torch.optim)\n",
            "  Downloading thop-0.1.1.post2209072238-py3-none-any.whl (15 kB)\n",
            "Requirement already satisfied: torch>=1.10.0 in /usr/local/lib/python3.10/dist-packages (from torch.optim) (2.2.1+cu121)\n",
            "Collecting torch-pruning>=0.2.7 (from torch.optim)\n",
            "  Downloading torch_pruning-1.3.7-py3-none-any.whl (56 kB)\n",
            "\u001b[2K     \u001b[90m━━━━━━━━━━━━━━━━━━━━━━━━━━━━━━━━━━━━━━━━\u001b[0m \u001b[32m56.5/56.5 kB\u001b[0m \u001b[31m6.2 MB/s\u001b[0m eta \u001b[36m0:00:00\u001b[0m\n",
            "\u001b[?25hRequirement already satisfied: torchvision>=0.11.1 in /usr/local/lib/python3.10/dist-packages (from torch.optim) (0.17.1+cu121)\n",
            "Requirement already satisfied: numpy in /usr/local/lib/python3.10/dist-packages (from deap>=1.3.1->torch.optim) (1.25.2)\n",
            "Requirement already satisfied: packaging in /usr/local/lib/python3.10/dist-packages (from pytorch-ignite>=0.4.8->torch.optim) (24.0)\n",
            "Requirement already satisfied: filelock in /usr/local/lib/python3.10/dist-packages (from torch>=1.10.0->torch.optim) (3.13.1)\n",
            "Requirement already satisfied: typing-extensions>=4.8.0 in /usr/local/lib/python3.10/dist-packages (from torch>=1.10.0->torch.optim) (4.10.0)\n",
            "Requirement already satisfied: sympy in /usr/local/lib/python3.10/dist-packages (from torch>=1.10.0->torch.optim) (1.12)\n",
            "Requirement already satisfied: networkx in /usr/local/lib/python3.10/dist-packages (from torch>=1.10.0->torch.optim) (3.2.1)\n",
            "Requirement already satisfied: jinja2 in /usr/local/lib/python3.10/dist-packages (from torch>=1.10.0->torch.optim) (3.1.3)\n",
            "Requirement already satisfied: fsspec in /usr/local/lib/python3.10/dist-packages (from torch>=1.10.0->torch.optim) (2023.6.0)\n",
            "Collecting nvidia-cuda-nvrtc-cu12==12.1.105 (from torch>=1.10.0->torch.optim)\n",
            "  Downloading nvidia_cuda_nvrtc_cu12-12.1.105-py3-none-manylinux1_x86_64.whl (23.7 MB)\n",
            "\u001b[2K     \u001b[90m━━━━━━━━━━━━━━━━━━━━━━━━━━━━━━━━━━━━━━━━\u001b[0m \u001b[32m23.7/23.7 MB\u001b[0m \u001b[31m51.2 MB/s\u001b[0m eta \u001b[36m0:00:00\u001b[0m\n",
            "\u001b[?25hCollecting nvidia-cuda-runtime-cu12==12.1.105 (from torch>=1.10.0->torch.optim)\n",
            "  Downloading nvidia_cuda_runtime_cu12-12.1.105-py3-none-manylinux1_x86_64.whl (823 kB)\n",
            "\u001b[2K     \u001b[90m━━━━━━━━━━━━━━━━━━━━━━━━━━━━━━━━━━━━━━━━\u001b[0m \u001b[32m823.6/823.6 kB\u001b[0m \u001b[31m44.6 MB/s\u001b[0m eta \u001b[36m0:00:00\u001b[0m\n",
            "\u001b[?25hCollecting nvidia-cuda-cupti-cu12==12.1.105 (from torch>=1.10.0->torch.optim)\n",
            "  Downloading nvidia_cuda_cupti_cu12-12.1.105-py3-none-manylinux1_x86_64.whl (14.1 MB)\n",
            "\u001b[2K     \u001b[90m━━━━━━━━━━━━━━━━━━━━━━━━━━━━━━━━━━━━━━━━\u001b[0m \u001b[32m14.1/14.1 MB\u001b[0m \u001b[31m73.5 MB/s\u001b[0m eta \u001b[36m0:00:00\u001b[0m\n",
            "\u001b[?25hCollecting nvidia-cudnn-cu12==8.9.2.26 (from torch>=1.10.0->torch.optim)\n",
            "  Downloading nvidia_cudnn_cu12-8.9.2.26-py3-none-manylinux1_x86_64.whl (731.7 MB)\n",
            "\u001b[2K     \u001b[90m━━━━━━━━━━━━━━━━━━━━━━━━━━━━━━━━━━━━━━━━\u001b[0m \u001b[32m731.7/731.7 MB\u001b[0m \u001b[31m1.8 MB/s\u001b[0m eta \u001b[36m0:00:00\u001b[0m\n",
            "\u001b[?25hCollecting nvidia-cublas-cu12==12.1.3.1 (from torch>=1.10.0->torch.optim)\n",
            "  Downloading nvidia_cublas_cu12-12.1.3.1-py3-none-manylinux1_x86_64.whl (410.6 MB)\n",
            "\u001b[2K     \u001b[90m━━━━━━━━━━━━━━━━━━━━━━━━━━━━━━━━━━━━━━━━\u001b[0m \u001b[32m410.6/410.6 MB\u001b[0m \u001b[31m3.5 MB/s\u001b[0m eta \u001b[36m0:00:00\u001b[0m\n",
            "\u001b[?25hCollecting nvidia-cufft-cu12==11.0.2.54 (from torch>=1.10.0->torch.optim)\n",
            "  Downloading nvidia_cufft_cu12-11.0.2.54-py3-none-manylinux1_x86_64.whl (121.6 MB)\n",
            "\u001b[2K     \u001b[90m━━━━━━━━━━━━━━━━━━━━━━━━━━━━━━━━━━━━━━━━\u001b[0m \u001b[32m121.6/121.6 MB\u001b[0m \u001b[31m8.7 MB/s\u001b[0m eta \u001b[36m0:00:00\u001b[0m\n",
            "\u001b[?25hCollecting nvidia-curand-cu12==10.3.2.106 (from torch>=1.10.0->torch.optim)\n",
            "  Downloading nvidia_curand_cu12-10.3.2.106-py3-none-manylinux1_x86_64.whl (56.5 MB)\n",
            "\u001b[2K     \u001b[90m━━━━━━━━━━━━━━━━━━━━━━━━━━━━━━━━━━━━━━━━\u001b[0m \u001b[32m56.5/56.5 MB\u001b[0m \u001b[31m9.8 MB/s\u001b[0m eta \u001b[36m0:00:00\u001b[0m\n",
            "\u001b[?25hCollecting nvidia-cusolver-cu12==11.4.5.107 (from torch>=1.10.0->torch.optim)\n",
            "  Downloading nvidia_cusolver_cu12-11.4.5.107-py3-none-manylinux1_x86_64.whl (124.2 MB)\n",
            "\u001b[2K     \u001b[90m━━━━━━━━━━━━━━━━━━━━━━━━━━━━━━━━━━━━━━━━\u001b[0m \u001b[32m124.2/124.2 MB\u001b[0m \u001b[31m7.3 MB/s\u001b[0m eta \u001b[36m0:00:00\u001b[0m\n",
            "\u001b[?25hCollecting nvidia-cusparse-cu12==12.1.0.106 (from torch>=1.10.0->torch.optim)\n",
            "  Downloading nvidia_cusparse_cu12-12.1.0.106-py3-none-manylinux1_x86_64.whl (196.0 MB)\n",
            "\u001b[2K     \u001b[90m━━━━━━━━━━━━━━━━━━━━━━━━━━━━━━━━━━━━━━━━\u001b[0m \u001b[32m196.0/196.0 MB\u001b[0m \u001b[31m2.4 MB/s\u001b[0m eta \u001b[36m0:00:00\u001b[0m\n",
            "\u001b[?25hCollecting nvidia-nccl-cu12==2.19.3 (from torch>=1.10.0->torch.optim)\n",
            "  Downloading nvidia_nccl_cu12-2.19.3-py3-none-manylinux1_x86_64.whl (166.0 MB)\n",
            "\u001b[2K     \u001b[90m━━━━━━━━━━━━━━━━━━━━━━━━━━━━━━━━━━━━━━━━\u001b[0m \u001b[32m166.0/166.0 MB\u001b[0m \u001b[31m5.9 MB/s\u001b[0m eta \u001b[36m0:00:00\u001b[0m\n",
            "\u001b[?25hCollecting nvidia-nvtx-cu12==12.1.105 (from torch>=1.10.0->torch.optim)\n",
            "  Downloading nvidia_nvtx_cu12-12.1.105-py3-none-manylinux1_x86_64.whl (99 kB)\n",
            "\u001b[2K     \u001b[90m━━━━━━━━━━━━━━━━━━━━━━━━━━━━━━━━━━━━━━━━\u001b[0m \u001b[32m99.1/99.1 kB\u001b[0m \u001b[31m9.6 MB/s\u001b[0m eta \u001b[36m0:00:00\u001b[0m\n",
            "\u001b[?25hRequirement already satisfied: triton==2.2.0 in /usr/local/lib/python3.10/dist-packages (from torch>=1.10.0->torch.optim) (2.2.0)\n",
            "Collecting nvidia-nvjitlink-cu12 (from nvidia-cusolver-cu12==11.4.5.107->torch>=1.10.0->torch.optim)\n",
            "  Downloading nvidia_nvjitlink_cu12-12.4.99-py3-none-manylinux2014_x86_64.whl (21.1 MB)\n",
            "\u001b[2K     \u001b[90m━━━━━━━━━━━━━━━━━━━━━━━━━━━━━━━━━━━━━━━━\u001b[0m \u001b[32m21.1/21.1 MB\u001b[0m \u001b[31m63.4 MB/s\u001b[0m eta \u001b[36m0:00:00\u001b[0m\n",
            "\u001b[?25hRequirement already satisfied: pillow!=8.3.*,>=5.3.0 in /usr/local/lib/python3.10/dist-packages (from torchvision>=0.11.1->torch.optim) (9.4.0)\n",
            "Requirement already satisfied: MarkupSafe>=2.0 in /usr/local/lib/python3.10/dist-packages (from jinja2->torch>=1.10.0->torch.optim) (2.1.5)\n",
            "Requirement already satisfied: mpmath>=0.19 in /usr/local/lib/python3.10/dist-packages (from sympy->torch>=1.10.0->torch.optim) (1.3.0)\n",
            "Installing collected packages: nvidia-nvtx-cu12, nvidia-nvjitlink-cu12, nvidia-nccl-cu12, nvidia-curand-cu12, nvidia-cufft-cu12, nvidia-cuda-runtime-cu12, nvidia-cuda-nvrtc-cu12, nvidia-cuda-cupti-cu12, nvidia-cublas-cu12, deap, nvidia-cusparse-cu12, nvidia-cudnn-cu12, nvidia-cusolver-cu12, torch-pruning, thop, pytorch-ignite, torch.optim\n",
            "Successfully installed deap-1.4.1 nvidia-cublas-cu12-12.1.3.1 nvidia-cuda-cupti-cu12-12.1.105 nvidia-cuda-nvrtc-cu12-12.1.105 nvidia-cuda-runtime-cu12-12.1.105 nvidia-cudnn-cu12-8.9.2.26 nvidia-cufft-cu12-11.0.2.54 nvidia-curand-cu12-10.3.2.106 nvidia-cusolver-cu12-11.4.5.107 nvidia-cusparse-cu12-12.1.0.106 nvidia-nccl-cu12-2.19.3 nvidia-nvjitlink-cu12-12.4.99 nvidia-nvtx-cu12-12.1.105 pytorch-ignite-0.4.13 thop-0.1.1.post2209072238 torch-pruning-1.3.7 torch.optim-0.0.4\n"
          ]
        }
      ],
      "source": [
        "!apt-get install -y xvfb python-opengl > /dev/null 2>&1\n",
        "!pip install gym pyvirtualdisplay > /dev/null 2>&1\n",
        "!pip install gym pyvirtualdisplay > /dev/null 2>&1\n",
        "!apt-get install -y xvfb python-opengl ffmpeg > /dev/null 2>&1\n",
        "!pip install gym[classic_control]\n",
        "!apt-get update > /dev/null 2>&1\n",
        "!apt-get install cmake > /dev/null 2>&1\n",
        "!pip install --upgrade setuptools 2>&1\n",
        "!pip install ez_setup > /dev/null 2>&1\n",
        "!pip install torch.nn\n",
        "!pip install torch.optim"
      ]
    },
    {
      "cell_type": "markdown",
      "metadata": {
        "id": "RwKbYeTgbaTA"
      },
      "source": [
        "## Importing dependencies and define helper functions"
      ]
    },
    {
      "cell_type": "code",
      "execution_count": null,
      "metadata": {
        "id": "j6KpgCLGYWmj"
      },
      "outputs": [],
      "source": [
        "import gym\n",
        "from gym import logger as gymlogger\n",
        "from gym.wrappers import RecordVideo\n",
        "gymlogger.set_level(40) #error only\n",
        "import tensorflow as tf\n",
        "import numpy as np\n",
        "import random\n",
        "import matplotlib\n",
        "import matplotlib.pyplot as plt\n",
        "import seaborn as sns\n",
        "%matplotlib inline\n",
        "import math\n",
        "import glob\n",
        "import io\n",
        "import base64\n",
        "from IPython.display import HTML\n",
        "from IPython import display as ipythondisplay\n",
        "\n",
        "def show_video():\n",
        "  mp4list = glob.glob('video/*.mp4')\n",
        "  if len(mp4list) > 0:\n",
        "    mp4 = mp4list[0]\n",
        "    video = io.open(mp4, 'r+b').read()\n",
        "    encoded = base64.b64encode(video)\n",
        "    ipythondisplay.display(HTML(data='''<video alt=\"test\" autoplay\n",
        "                loop controls style=\"height: 400px;\">\n",
        "                <source src=\"data:video/mp4;base64,{0}\" type=\"video/mp4\" />\n",
        "             </video>'''.format(encoded.decode('ascii'))))\n",
        "  else:\n",
        "    print(\"Could not find video\")"
      ]
    },
    {
      "cell_type": "markdown",
      "metadata": {
        "id": "ehbqP9CXbmo7"
      },
      "source": [
        "## Tutorial: Loading CartPole environment"
      ]
    },
    {
      "cell_type": "code",
      "execution_count": null,
      "metadata": {
        "id": "Go12dH4qbwBy",
        "colab": {
          "base_uri": "https://localhost:8080/"
        },
        "outputId": "a5629ff2-4401-4c59-d0f2-93b696a7c74d"
      },
      "outputs": [
        {
          "output_type": "stream",
          "name": "stderr",
          "text": [
            "/usr/local/lib/python3.10/dist-packages/ipykernel/ipkernel.py:283: DeprecationWarning: `should_run_async` will not call `transform_cell` automatically in the future. Please pass the result to `transformed_cell` argument and any exception that happen during thetransform in `preprocessing_exc_tuple` in IPython 7.17 and above.\n",
            "  and should_run_async(code)\n"
          ]
        }
      ],
      "source": [
        "env = gym.make(\"CartPole-v1\")"
      ]
    },
    {
      "cell_type": "markdown",
      "metadata": {
        "id": "9XZ9g3xrcAXE"
      },
      "source": [
        "We can check the action and observation space of this environment. Discrete(2) means that there are two valid discrete actions: 0 & 1."
      ]
    },
    {
      "cell_type": "code",
      "execution_count": null,
      "metadata": {
        "colab": {
          "base_uri": "https://localhost:8080/"
        },
        "id": "ytxvVmLdcRyw",
        "outputId": "6c6e3f54-9c7b-4f93-d13b-690de51f6d26"
      },
      "outputs": [
        {
          "output_type": "stream",
          "name": "stdout",
          "text": [
            "Discrete(2)\n"
          ]
        }
      ],
      "source": [
        "print(env.action_space)"
      ]
    },
    {
      "cell_type": "markdown",
      "metadata": {
        "id": "pVXGWi_Ncfg-"
      },
      "source": [
        "The observation space is given below. The first two arrays define the min and max values of the 4 observed values, corresponding to cart position, velocity and pole angle, angular velocity."
      ]
    },
    {
      "cell_type": "code",
      "execution_count": null,
      "metadata": {
        "colab": {
          "base_uri": "https://localhost:8080/"
        },
        "id": "DyqHr9I5cdkX",
        "outputId": "8feb3369-d826-4357-ca76-e2d50f86ef29"
      },
      "outputs": [
        {
          "output_type": "stream",
          "name": "stdout",
          "text": [
            "Box([-4.8000002e+00 -3.4028235e+38 -4.1887903e-01 -3.4028235e+38], [4.8000002e+00 3.4028235e+38 4.1887903e-01 3.4028235e+38], (4,), float32)\n"
          ]
        }
      ],
      "source": [
        "print(env.observation_space)"
      ]
    },
    {
      "cell_type": "markdown",
      "metadata": {
        "id": "HFOdaU2Gdyg0"
      },
      "source": [
        "We call each round of the pole-balancing game an \"episode\". At the start of each episode, make sure the environment is reset, which chooses a random initial state, e.g., pole slightly tilted to the right. This initialization can be achieved by the code below, which returns the observation of the initial state."
      ]
    },
    {
      "cell_type": "code",
      "execution_count": null,
      "metadata": {
        "colab": {
          "base_uri": "https://localhost:8080/"
        },
        "id": "VMr6qAqxdOsm",
        "outputId": "4b90574f-71e5-4eae-cf0e-be85ede0380d"
      },
      "outputs": [
        {
          "output_type": "stream",
          "name": "stdout",
          "text": [
            "Initial observations: [-0.00935208  0.04874972 -0.00991341  0.00790529]\n"
          ]
        }
      ],
      "source": [
        "observation = env.reset()\n",
        "print(\"Initial observations:\", observation)"
      ]
    },
    {
      "cell_type": "markdown",
      "metadata": {
        "id": "qnG2QdfbeZrI"
      },
      "source": [
        "For the CartPole environment, there are two possible actions: 0 for pushing to the left and 1 for pushing to the right. For example, we can push the cart to the left using code below, which returns the new observation, the current reward, an indicator of whether the game ends, and some additional information (not used in this project). For CartPole, the game ends when the pole is significantly tilted or you manage to balance the pole for 500 steps. You get exactly 1 reward for each step before the game ends (i.e., max cumulative reward is 500)."
      ]
    },
    {
      "cell_type": "code",
      "execution_count": null,
      "metadata": {
        "colab": {
          "base_uri": "https://localhost:8080/"
        },
        "id": "MmfMDvyYdWGk",
        "outputId": "a109102d-7195-408a-8a8a-aaf10b3645f2"
      },
      "outputs": [
        {
          "output_type": "stream",
          "name": "stdout",
          "text": [
            "New observations after choosing action 0: [-0.00837709 -0.14622867 -0.0097553   0.297444  ]\n",
            "Reward for this step: 1.0\n",
            "Is this round done? False\n",
            "Info {}\n"
          ]
        },
        {
          "output_type": "stream",
          "name": "stderr",
          "text": [
            "/usr/local/lib/python3.10/dist-packages/gym/utils/passive_env_checker.py:241: DeprecationWarning: `np.bool8` is a deprecated alias for `np.bool_`.  (Deprecated NumPy 1.24)\n",
            "  if not isinstance(terminated, (bool, np.bool8)):\n"
          ]
        }
      ],
      "source": [
        "observation, reward, done, info = env.step(0)\n",
        "print(\"New observations after choosing action 0:\", observation)\n",
        "print(\"Reward for this step:\", reward)\n",
        "print(\"Is this round done?\", done)\n",
        "print(\"Info\", info)"
      ]
    },
    {
      "cell_type": "markdown",
      "metadata": {
        "id": "tj0zCh59fhBb"
      },
      "source": [
        "Now we can play a full round of the game using a naive strategy (always choosing action 0), and show the cumulative reward in the round. Note that reward returned by env.step(*) corresponds to the reward for current step. So we have to accumulate the reward for each step. Clearly, the naive strategy performs poorly by surviving only a dozen of steps."
      ]
    },
    {
      "cell_type": "code",
      "execution_count": null,
      "metadata": {
        "colab": {
          "base_uri": "https://localhost:8080/"
        },
        "id": "AVucQVRwf6Jm",
        "outputId": "1b653ec6-656a-47a2-d9be-df81c9b1f874"
      },
      "outputs": [
        {
          "output_type": "stream",
          "name": "stdout",
          "text": [
            "Cumulative reward for this round: 9.0\n"
          ]
        }
      ],
      "source": [
        "observation = env.reset()\n",
        "cumulative_reward = 0\n",
        "done = False\n",
        "while not done:\n",
        "    observation, reward, done, info = env.step(0)\n",
        "    cumulative_reward += reward\n",
        "print(\"Cumulative reward for this round:\", cumulative_reward)"
      ]
    },
    {
      "cell_type": "markdown",
      "metadata": {
        "id": "PjumKHZKdBvq"
      },
      "source": [
        "An example of a naive agent is given below, which randomly chooses an action regardless of the observation:"
      ]
    },
    {
      "cell_type": "code",
      "execution_count": null,
      "metadata": {
        "id": "cK9PBY8XdBvr"
      },
      "outputs": [],
      "source": [
        "def rand_policy_agent(observation):\n",
        "    return random.randint(0, 1)"
      ]
    },
    {
      "cell_type": "markdown",
      "metadata": {
        "id": "f-__PxuFdBvr"
      },
      "source": [
        "For Task 1, we can show the observation and chosen action below:"
      ]
    },
    {
      "cell_type": "code",
      "execution_count": null,
      "metadata": {
        "colab": {
          "base_uri": "https://localhost:8080/"
        },
        "outputId": "57d339d2-93d3-4fca-dc03-fbcee9183876",
        "id": "BN7mDAk_dBvr"
      },
      "outputs": [
        {
          "output_type": "stream",
          "name": "stdout",
          "text": [
            "Observation: [ 0.03873248 -0.0393616   0.00654844 -0.02177495]\n",
            "Chosen action: 0\n"
          ]
        }
      ],
      "source": [
        "observation = env.reset()\n",
        "action = rand_policy_agent(observation)\n",
        "print(\"Observation:\", observation)\n",
        "print(\"Chosen action:\", action)"
      ]
    },
    {
      "cell_type": "markdown",
      "source": [
        " Replay Memory"
      ],
      "metadata": {
        "id": "xUa-auC-0nQG"
      }
    },
    {
      "cell_type": "code",
      "execution_count": null,
      "metadata": {
        "id": "6fUd2tLrdBvs"
      },
      "outputs": [],
      "source": [
        "from collections import namedtuple, deque\n",
        "Transition = namedtuple('Transition',\n",
        "                        ('state', 'action', 'next_state', 'reward'))\n",
        "\n",
        "\n",
        "class ReplayMemory(object):\n",
        "\n",
        "    def __init__(self, capacity):\n",
        "        self.memory = deque([], maxlen=capacity)\n",
        "\n",
        "    def push(self, *args):\n",
        "        \"\"\"Save a transition\"\"\"\n",
        "        self.memory.append(Transition(*args))\n",
        "\n",
        "    def sample(self, batch_size):\n",
        "        return random.sample(self.memory, batch_size)\n",
        "\n",
        "    def __len__(self):\n",
        "        return len(self.memory)"
      ]
    },
    {
      "cell_type": "markdown",
      "source": [
        "#Model 1: Deep-Q Network"
      ],
      "metadata": {
        "id": "Zo4_AtKBz-18"
      }
    },
    {
      "cell_type": "markdown",
      "source": [
        "We will attempt to train a Deep Q-Network agent which is aimed at learning the optimal action-selection policy specific to the cartpole environment. \\\n",
        "\\\n",
        "The DQN agent employs a deep neural network to repeatedly approximate Q-value function, which gives the expected cumulative rewards when a particular action is taken at a specific state. \\\n",
        "\\\n",
        "DQNs consist of both policy and target networks that serve different purposes. The policy network takes the state of the environment as input and returns Q-values for each possible actions. While the target network is similarly used to generate target Q-values, its' fixed parameters help to stabilize the training process. The policy network is updated to minimize the error between predicted Q-values and target Q-values."
      ],
      "metadata": {
        "id": "FD3a8yC80Mvx"
      }
    },
    {
      "cell_type": "markdown",
      "source": [
        "## Task 1 (DQN): Development of an RL agent"
      ],
      "metadata": {
        "id": "9daPkN79z6kQ"
      }
    },
    {
      "cell_type": "markdown",
      "source": [
        "Code was adadpted from: https://pytorch.org/tutorials/intermediate/reinforcement_q_learning.html"
      ],
      "metadata": {
        "id": "fHZGr6uzZmHT"
      }
    },
    {
      "cell_type": "code",
      "execution_count": null,
      "metadata": {
        "id": "vW3A0lq6iDyG"
      },
      "outputs": [],
      "source": [
        "# Import PyTorch\n",
        "import torch\n",
        "import torch.nn as nn\n",
        "import torch.optim as optim\n",
        "import torch.nn.functional as F"
      ]
    },
    {
      "cell_type": "code",
      "execution_count": null,
      "metadata": {
        "id": "LMkNKWaliKtH"
      },
      "outputs": [],
      "source": [
        "class DQN(nn.Module):\n",
        "\n",
        "    # Setting up of neural network with 2 hidden layers with 16 nodes each\n",
        "    # Reference sample constructed neural network with 128 nodes in each of the 2 hidden layers\n",
        "    # However, due to limited number of observations (input variables), we reduced number of nodes\n",
        "    # to prevent overtraining and limit complexity of neural network to reduce computation time\n",
        "    def __init__(self, n_observations, n_actions):\n",
        "        super(DQN, self).__init__()\n",
        "        # Create fully connected layers\n",
        "        self.layer1 = nn.Linear(n_observations, 16)\n",
        "        self.layer2 = nn.Linear(16, 16)\n",
        "        self.layer3 = nn.Linear(16, n_actions)\n",
        "\n",
        "    # Function to determine the expected return of taking each action given the current input\n",
        "    def forward(self, x):\n",
        "        x = F.relu(self.layer1(x))\n",
        "        x = F.relu(self.layer2(x))\n",
        "        return self.layer3(x)"
      ]
    },
    {
      "cell_type": "code",
      "execution_count": null,
      "metadata": {
        "id": "XB9jSxADiOU-"
      },
      "outputs": [],
      "source": [
        "# Define hyperparameters\n",
        "BATCH_SIZE = 500 # No. of training examples for one iteration of training\n",
        "# Due to the highly volatile nature of our original training results, we decided to increase the batch size to allow our model to capitalize on relatively high previously achieved results.\n",
        "GAMMA = 0.99 # Discount factor\n",
        "EPS_START = 0.9 # Initial exploration rate\n",
        "EPS_END = 0.05 # Final exploration rate\n",
        "EPS_DECAY = 1000 # Rate of exponential decay of epsilon\n",
        "TAU = 0.005 # Update rate of target network\n",
        "LR = 0.0015 # Learning rate of optimizer\n",
        "# We observed the model taking a huge number of episodes to start showing results, hence significantly increased learning rate to improve efficiency.\n",
        "\n",
        "# Get number of actions from gym action space\n",
        "n_actions = env.action_space.n\n",
        "# Get the number of state observations\n",
        "state = env.reset()\n",
        "n_observations = len(state)\n",
        "\n",
        "device = torch.device(\"cuda\" if torch.cuda.is_available() else \"cpu\")\n",
        "# Setting up of policy and target neural networks\n",
        "policy_net = DQN(n_observations, n_actions).to(device)\n",
        "target_net = DQN(n_observations, n_actions).to(device) # Same architecture as policy network but with fixed parameters\n",
        "# The target network is used to stabilize training by providing target Q-values during the learning process.\n",
        "target_net.load_state_dict(policy_net.state_dict())\n",
        "# Initializes the target network with the same initial parameters as the policy network\n",
        "# Facilitates starting training with a stable set of parameters in both networks.\n",
        "\n",
        "optimizer = optim.AdamW(policy_net.parameters(), lr=LR, amsgrad=True)\n",
        "# initializes an AdamW optimizer for the policy_net, along with its parameters (from policy net), learning rate (declared above), and using the AMSGrad variant for optimization during training.\n",
        "memory = ReplayMemory(10000) # Experience replay - stores past interactions with environment and the outcomes of actions\n",
        "\n",
        "steps_done = 0\n",
        "\n",
        "\n",
        "def select_action(state):\n",
        "    global steps_done\n",
        "    sample = random.random()\n",
        "    # Epsilon-greedy strategy : Explore more initially then shift to exploitation (choose actions based on learned values)\n",
        "    eps_threshold = EPS_END + (EPS_START - EPS_END) * math.exp(-1. * steps_done / EPS_DECAY)\n",
        "    steps_done += 1\n",
        "    if sample > eps_threshold: # Exploitation\n",
        "        with torch.no_grad():\n",
        "            # t.max(1) will return the largest column value of each row.\n",
        "            # Second column on max result is index of where max element was\n",
        "            # Found, so we pick action with the larger expected reward.\n",
        "            return policy_net(state).max(1).indices.view(1, 1)\n",
        "    else:\n",
        "        # Exploration : trying new actions\n",
        "        return torch.tensor([[env.action_space.sample()]], device=device, dtype=torch.long)\n",
        "\n",
        "episode_durations = []"
      ]
    },
    {
      "cell_type": "code",
      "execution_count": null,
      "metadata": {
        "id": "_-0KVEzOiixo"
      },
      "outputs": [],
      "source": [
        "# Training function\n",
        "def optimize_model():\n",
        "    if len(memory) < BATCH_SIZE:\n",
        "        return\n",
        "    transitions = memory.sample(BATCH_SIZE)\n",
        "    batch = Transition(*zip(*transitions))\n",
        "\n",
        "    # Compute a mask of non-final states and concatenate the batch elements\n",
        "    # A final state would've been the one after which simulation ended\n",
        "    # Filter out final states from batch\n",
        "    non_final_mask = torch.tensor(tuple(map(lambda s: s is not None,batch.next_state)), device=device, dtype=torch.bool)\n",
        "    non_final_next_states = torch.cat([s for s in batch.next_state if s is not None])\n",
        "    # Concatenate into tensors for efficient computation\n",
        "    state_batch = torch.cat(batch.state)\n",
        "    action_batch = torch.cat(batch.action)\n",
        "    reward_batch = torch.cat(batch.reward)\n",
        "\n",
        "    # Compute Q-values for state-actions pairs using policy network\n",
        "    state_action_values = policy_net(state_batch).gather(1, action_batch)\n",
        "\n",
        "    # Initialise expected next_state_values\n",
        "    next_state_values = torch.zeros(BATCH_SIZE, device=device)\n",
        "    with torch.no_grad():\n",
        "        # Compute expected values of the next states using target network\n",
        "        # max(1).values selects the highest reward\n",
        "        next_state_values[non_final_mask] = target_net(non_final_next_states).max(1).values\n",
        "    # Compute the expected Q values\n",
        "    expected_state_action_values = (next_state_values * GAMMA) + reward_batch\n",
        "\n",
        "    # Compute Huber loss between calculated and expected Q-values\n",
        "    criterion = nn.SmoothL1Loss()\n",
        "    loss = criterion(state_action_values, expected_state_action_values.unsqueeze(1))\n",
        "\n",
        "    # Optimize the model\n",
        "    optimizer.zero_grad()\n",
        "    loss.backward() # Backpropagation\n",
        "    torch.nn.utils.clip_grad_value_(policy_net.parameters(), 100) # In-place gradient clipping to prevent large gradients\n",
        "    optimizer.step() # Update parameters of policy network to reduce loss"
      ]
    },
    {
      "cell_type": "code",
      "source": [
        "# Function to save and load model\n",
        "def save_model(model, filename=\"DQN_policy_net.pth\"):\n",
        "  torch.save(model.state_dict(), filename)"
      ],
      "metadata": {
        "id": "8NPOg3jrT0OA"
      },
      "execution_count": null,
      "outputs": []
    },
    {
      "cell_type": "code",
      "execution_count": null,
      "metadata": {
        "colab": {
          "base_uri": "https://localhost:8080/"
        },
        "id": "8WNtGyuYivvN",
        "outputId": "9f5cd9be-d2dc-4aac-ebeb-88492fed9127"
      },
      "outputs": [
        {
          "output_type": "stream",
          "name": "stdout",
          "text": [
            "episode0 || total steps: 26\n",
            "episode1 || total steps: 15\n",
            "episode2 || total steps: 41\n",
            "episode3 || total steps: 10\n",
            "episode4 || total steps: 32\n",
            "episode5 || total steps: 21\n",
            "episode6 || total steps: 24\n",
            "episode7 || total steps: 11\n",
            "episode8 || total steps: 41\n",
            "episode9 || total steps: 33\n",
            "episode10 || total steps: 16\n",
            "episode11 || total steps: 16\n",
            "episode12 || total steps: 8\n",
            "episode13 || total steps: 10\n",
            "episode14 || total steps: 26\n",
            "episode15 || total steps: 14\n",
            "episode16 || total steps: 10\n",
            "episode17 || total steps: 12\n",
            "episode18 || total steps: 12\n",
            "episode19 || total steps: 20\n",
            "episode20 || total steps: 10\n",
            "episode21 || total steps: 10\n",
            "episode22 || total steps: 10\n",
            "episode23 || total steps: 17\n",
            "episode24 || total steps: 12\n",
            "episode25 || total steps: 12\n",
            "episode26 || total steps: 25\n",
            "episode27 || total steps: 20\n",
            "episode28 || total steps: 16\n",
            "episode29 || total steps: 14\n",
            "episode30 || total steps: 15\n",
            "episode31 || total steps: 11\n",
            "episode32 || total steps: 11\n",
            "episode33 || total steps: 10\n",
            "episode34 || total steps: 12\n",
            "episode35 || total steps: 15\n",
            "episode36 || total steps: 11\n",
            "episode37 || total steps: 13\n",
            "episode38 || total steps: 10\n",
            "episode39 || total steps: 12\n",
            "episode40 || total steps: 10\n",
            "episode41 || total steps: 21\n",
            "episode42 || total steps: 10\n",
            "episode43 || total steps: 10\n",
            "episode44 || total steps: 11\n",
            "episode45 || total steps: 13\n",
            "episode46 || total steps: 16\n",
            "episode47 || total steps: 10\n",
            "episode48 || total steps: 11\n",
            "episode49 || total steps: 10\n",
            "episode50 || total steps: 11\n",
            "episode51 || total steps: 12\n",
            "episode52 || total steps: 12\n",
            "episode53 || total steps: 11\n",
            "episode54 || total steps: 12\n",
            "episode55 || total steps: 12\n",
            "episode56 || total steps: 14\n",
            "episode57 || total steps: 11\n",
            "episode58 || total steps: 10\n",
            "episode59 || total steps: 12\n",
            "episode60 || total steps: 16\n",
            "episode61 || total steps: 10\n",
            "episode62 || total steps: 14\n",
            "episode63 || total steps: 22\n",
            "episode64 || total steps: 66\n",
            "episode65 || total steps: 54\n",
            "episode66 || total steps: 98\n",
            "episode67 || total steps: 32\n",
            "episode68 || total steps: 16\n",
            "episode69 || total steps: 73\n",
            "episode70 || total steps: 106\n",
            "episode71 || total steps: 94\n",
            "episode72 || total steps: 18\n",
            "episode73 || total steps: 125\n",
            "episode74 || total steps: 153\n",
            "episode75 || total steps: 144\n",
            "episode76 || total steps: 166\n",
            "episode77 || total steps: 139\n",
            "episode78 || total steps: 161\n",
            "episode79 || total steps: 188\n",
            "episode80 || total steps: 48\n",
            "episode81 || total steps: 10\n",
            "episode82 || total steps: 19\n",
            "episode83 || total steps: 24\n",
            "episode84 || total steps: 18\n",
            "episode85 || total steps: 16\n",
            "episode86 || total steps: 26\n",
            "episode87 || total steps: 10\n",
            "episode88 || total steps: 10\n",
            "episode89 || total steps: 9\n",
            "episode90 || total steps: 9\n",
            "episode91 || total steps: 13\n",
            "episode92 || total steps: 17\n",
            "episode93 || total steps: 10\n",
            "episode94 || total steps: 9\n",
            "episode95 || total steps: 10\n",
            "episode96 || total steps: 10\n",
            "episode97 || total steps: 22\n",
            "episode98 || total steps: 10\n",
            "episode99 || total steps: 10\n",
            "episode100 || total steps: 10\n",
            "episode101 || total steps: 10\n",
            "episode102 || total steps: 9\n",
            "episode103 || total steps: 10\n",
            "episode104 || total steps: 10\n",
            "episode105 || total steps: 10\n",
            "episode106 || total steps: 10\n",
            "episode107 || total steps: 11\n",
            "episode108 || total steps: 9\n",
            "episode109 || total steps: 9\n",
            "episode110 || total steps: 9\n",
            "episode111 || total steps: 10\n",
            "episode112 || total steps: 10\n",
            "episode113 || total steps: 10\n",
            "episode114 || total steps: 9\n",
            "episode115 || total steps: 9\n",
            "episode116 || total steps: 9\n",
            "episode117 || total steps: 9\n",
            "episode118 || total steps: 10\n",
            "episode119 || total steps: 9\n",
            "episode120 || total steps: 10\n",
            "episode121 || total steps: 11\n",
            "episode122 || total steps: 10\n",
            "episode123 || total steps: 9\n",
            "episode124 || total steps: 13\n",
            "episode125 || total steps: 12\n",
            "episode126 || total steps: 9\n",
            "episode127 || total steps: 9\n",
            "episode128 || total steps: 10\n",
            "episode129 || total steps: 11\n",
            "episode130 || total steps: 10\n",
            "episode131 || total steps: 10\n",
            "episode132 || total steps: 18\n",
            "episode133 || total steps: 9\n",
            "episode134 || total steps: 10\n",
            "episode135 || total steps: 10\n",
            "episode136 || total steps: 9\n",
            "episode137 || total steps: 9\n",
            "episode138 || total steps: 9\n",
            "episode139 || total steps: 11\n",
            "episode140 || total steps: 9\n",
            "episode141 || total steps: 9\n",
            "episode142 || total steps: 10\n",
            "episode143 || total steps: 8\n",
            "episode144 || total steps: 16\n",
            "episode145 || total steps: 11\n",
            "episode146 || total steps: 8\n",
            "episode147 || total steps: 9\n",
            "episode148 || total steps: 10\n",
            "episode149 || total steps: 9\n",
            "episode150 || total steps: 10\n",
            "episode151 || total steps: 10\n",
            "episode152 || total steps: 10\n",
            "episode153 || total steps: 10\n",
            "episode154 || total steps: 21\n",
            "episode155 || total steps: 11\n",
            "episode156 || total steps: 28\n",
            "episode157 || total steps: 9\n",
            "episode158 || total steps: 11\n",
            "episode159 || total steps: 9\n",
            "episode160 || total steps: 10\n",
            "episode161 || total steps: 9\n",
            "episode162 || total steps: 9\n",
            "episode163 || total steps: 11\n",
            "episode164 || total steps: 10\n",
            "episode165 || total steps: 16\n",
            "episode166 || total steps: 10\n",
            "episode167 || total steps: 11\n",
            "episode168 || total steps: 19\n",
            "episode169 || total steps: 10\n",
            "episode170 || total steps: 18\n",
            "episode171 || total steps: 9\n",
            "episode172 || total steps: 10\n",
            "episode173 || total steps: 12\n",
            "episode174 || total steps: 11\n",
            "episode175 || total steps: 10\n",
            "episode176 || total steps: 12\n",
            "episode177 || total steps: 10\n",
            "episode178 || total steps: 11\n",
            "episode179 || total steps: 17\n",
            "episode180 || total steps: 11\n",
            "episode181 || total steps: 10\n",
            "episode182 || total steps: 21\n",
            "episode183 || total steps: 21\n",
            "episode184 || total steps: 19\n",
            "episode185 || total steps: 11\n",
            "episode186 || total steps: 25\n",
            "episode187 || total steps: 16\n",
            "episode188 || total steps: 10\n",
            "episode189 || total steps: 19\n",
            "episode190 || total steps: 42\n",
            "episode191 || total steps: 21\n",
            "episode192 || total steps: 17\n",
            "episode193 || total steps: 19\n",
            "episode194 || total steps: 12\n",
            "episode195 || total steps: 45\n",
            "episode196 || total steps: 19\n",
            "episode197 || total steps: 22\n",
            "episode198 || total steps: 19\n",
            "episode199 || total steps: 32\n",
            "episode200 || total steps: 22\n",
            "episode201 || total steps: 20\n",
            "episode202 || total steps: 22\n",
            "episode203 || total steps: 24\n",
            "episode204 || total steps: 22\n",
            "episode205 || total steps: 24\n",
            "episode206 || total steps: 24\n",
            "episode207 || total steps: 22\n",
            "episode208 || total steps: 28\n",
            "episode209 || total steps: 27\n",
            "episode210 || total steps: 31\n",
            "episode211 || total steps: 28\n",
            "episode212 || total steps: 23\n",
            "episode213 || total steps: 142\n",
            "episode214 || total steps: 107\n",
            "episode215 || total steps: 108\n",
            "episode216 || total steps: 115\n",
            "episode217 || total steps: 105\n",
            "episode218 || total steps: 118\n",
            "episode219 || total steps: 122\n",
            "episode220 || total steps: 112\n",
            "episode221 || total steps: 123\n",
            "episode222 || total steps: 118\n",
            "episode223 || total steps: 120\n",
            "episode224 || total steps: 114\n",
            "episode225 || total steps: 111\n",
            "episode226 || total steps: 109\n",
            "episode227 || total steps: 107\n",
            "episode228 || total steps: 109\n",
            "episode229 || total steps: 117\n",
            "episode230 || total steps: 108\n",
            "episode231 || total steps: 112\n",
            "episode232 || total steps: 110\n",
            "episode233 || total steps: 110\n",
            "episode234 || total steps: 106\n",
            "episode235 || total steps: 109\n",
            "episode236 || total steps: 110\n",
            "episode237 || total steps: 104\n",
            "episode238 || total steps: 106\n",
            "episode239 || total steps: 104\n",
            "episode240 || total steps: 108\n",
            "episode241 || total steps: 119\n",
            "episode242 || total steps: 114\n",
            "episode243 || total steps: 109\n",
            "episode244 || total steps: 107\n",
            "episode245 || total steps: 107\n",
            "episode246 || total steps: 106\n",
            "episode247 || total steps: 106\n",
            "episode248 || total steps: 103\n",
            "episode249 || total steps: 101\n",
            "episode250 || total steps: 108\n",
            "episode251 || total steps: 100\n",
            "episode252 || total steps: 102\n",
            "episode253 || total steps: 107\n",
            "episode254 || total steps: 100\n",
            "episode255 || total steps: 105\n",
            "episode256 || total steps: 104\n",
            "episode257 || total steps: 102\n",
            "episode258 || total steps: 104\n",
            "episode259 || total steps: 105\n",
            "episode260 || total steps: 103\n",
            "episode261 || total steps: 104\n",
            "episode262 || total steps: 110\n",
            "episode263 || total steps: 107\n",
            "episode264 || total steps: 104\n",
            "episode265 || total steps: 106\n",
            "episode266 || total steps: 104\n",
            "episode267 || total steps: 105\n",
            "episode268 || total steps: 103\n",
            "episode269 || total steps: 103\n",
            "episode270 || total steps: 108\n",
            "episode271 || total steps: 108\n",
            "episode272 || total steps: 102\n",
            "episode273 || total steps: 102\n",
            "episode274 || total steps: 108\n",
            "episode275 || total steps: 107\n",
            "episode276 || total steps: 106\n",
            "episode277 || total steps: 104\n",
            "episode278 || total steps: 102\n",
            "episode279 || total steps: 100\n",
            "episode280 || total steps: 104\n",
            "episode281 || total steps: 108\n",
            "episode282 || total steps: 97\n",
            "episode283 || total steps: 101\n",
            "episode284 || total steps: 101\n",
            "episode285 || total steps: 103\n",
            "episode286 || total steps: 102\n",
            "episode287 || total steps: 102\n",
            "episode288 || total steps: 102\n",
            "episode289 || total steps: 103\n",
            "episode290 || total steps: 96\n",
            "episode291 || total steps: 100\n",
            "episode292 || total steps: 99\n",
            "episode293 || total steps: 13\n",
            "episode294 || total steps: 101\n",
            "episode295 || total steps: 96\n",
            "episode296 || total steps: 97\n",
            "episode297 || total steps: 96\n",
            "episode298 || total steps: 94\n",
            "episode299 || total steps: 99\n",
            "episode300 || total steps: 97\n",
            "episode301 || total steps: 99\n",
            "episode302 || total steps: 101\n",
            "episode303 || total steps: 99\n",
            "episode304 || total steps: 102\n",
            "episode305 || total steps: 100\n",
            "episode306 || total steps: 103\n",
            "episode307 || total steps: 109\n",
            "episode308 || total steps: 111\n",
            "episode309 || total steps: 109\n",
            "episode310 || total steps: 128\n",
            "episode311 || total steps: 128\n",
            "episode312 || total steps: 157\n",
            "episode313 || total steps: 170\n",
            "episode314 || total steps: 236\n",
            "episode315 || total steps: 199\n",
            "episode316 || total steps: 164\n",
            "episode317 || total steps: 165\n",
            "episode318 || total steps: 165\n",
            "episode319 || total steps: 176\n",
            "episode320 || total steps: 251\n",
            "episode321 || total steps: 208\n",
            "episode322 || total steps: 491\n",
            "episode323 || total steps: 224\n",
            "episode324 || total steps: 500\n"
          ]
        }
      ],
      "source": [
        "# Main training loop\n",
        "from itertools import count\n",
        "# set up matplotlib\n",
        "is_ipython = 'inline' in matplotlib.get_backend()\n",
        "if is_ipython:\n",
        "    from IPython import display\n",
        "\n",
        "plt.ion()\n",
        "\n",
        "num_episodes = 2000\n",
        "# To give model enough episodes to reach an acceptable standard\n",
        "episode_results = []\n",
        "# Initialize array for real-time analysing and plotting of results\n",
        "\n",
        "for i_episode in range(num_episodes):\n",
        "    # Initialize the environment and get its initial state\n",
        "    state = env.reset()\n",
        "    state = torch.tensor(state, dtype=torch.float32, device=device).unsqueeze(0)\n",
        "    total_steps = 0\n",
        "    for t in count():\n",
        "        action = select_action(state) # Epsilon-greedy policy based on current state\n",
        "        observation, reward, done,_ = env.step(action.item()) # Execute action in environment\n",
        "        reward = torch.tensor([reward], device=device)\n",
        "        total_steps+=1\n",
        "        if done:\n",
        "            next_state = None\n",
        "        else:\n",
        "            next_state = torch.tensor(observation, dtype=torch.float32, device=device).unsqueeze(0)\n",
        "\n",
        "        # Store the transition in memory\n",
        "        memory.push(state, action, next_state, reward)\n",
        "\n",
        "        # Progress to the next state\n",
        "        state = next_state\n",
        "\n",
        "        # Perform one step of the optimization (on the policy network)\n",
        "        optimize_model()\n",
        "\n",
        "        # Soft update of the target network's weights\n",
        "        # θ′ ← τ θ + (1 −τ )θ′\n",
        "        target_net_state_dict = target_net.state_dict()\n",
        "        policy_net_state_dict = policy_net.state_dict()\n",
        "        for key in policy_net_state_dict:\n",
        "            target_net_state_dict[key] = policy_net_state_dict[key]*TAU + target_net_state_dict[key]*(1-TAU)\n",
        "        target_net.load_state_dict(target_net_state_dict)\n",
        "\n",
        "        if done:\n",
        "            # Recording steps achieved every episode\n",
        "            episode_results.append(total_steps)\n",
        "            print(\"episode\" + str(i_episode) + \" || total steps: \"+str(total_steps))\n",
        "            break\n",
        "\n",
        "    # Early Stopping when average score of last 3 episodes exceeds 400\n",
        "    # This prevents overfitting by stopping training before the agent starts to memorize training data\n",
        "    if i_episode>10 and (episode_results[i_episode] + episode_results[i_episode-1] + episode_results[i_episode-2]) / 3 > 400:\n",
        "      save_model(policy_net)\n",
        "      break\n",
        "\n"
      ]
    },
    {
      "cell_type": "code",
      "source": [
        "# Illustrate training progress\n",
        "plt.plot(episode_results) # Blue\n",
        "# Include mean cumulative reward for every 10 consecutive episodes\n",
        "means = [sum(episode_results[i:i+10]) / 10 for i in range(0, len(episode_results), 10)]\n",
        "x_values = [i*10 for i in range(len(means))]\n",
        "plt.plot(x_values, means) # Yellow\n",
        "plt.title('Cumulative reward for each episode')\n",
        "plt.ylabel('Cumulative reward')\n",
        "plt.xlabel('episode')\n",
        "plt.show()"
      ],
      "metadata": {
        "id": "1tMCEyNWsy06",
        "colab": {
          "base_uri": "https://localhost:8080/",
          "height": 472
        },
        "outputId": "a7cbbdcb-7cb8-44c3-df7d-c7774ac6da82"
      },
      "execution_count": null,
      "outputs": [
        {
          "output_type": "display_data",
          "data": {
            "text/plain": [
              "<Figure size 640x480 with 1 Axes>"
            ],
            "image/png": "[encoded data removed]"
          },
          "metadata": {}
        }
      ]
    },
    {
      "cell_type": "markdown",
      "metadata": {
        "id": "0HxZXEgUdBvv"
      },
      "source": [
        "## Task 2 (DQN): Demonstrate the effectiveness of the RL agent"
      ]
    },
    {
      "cell_type": "markdown",
      "metadata": {
        "id": "bd1mzLwsdBvv"
      },
      "source": [
        "For this task, use the agent developed in Task 1 to play the game for 100 episodes (refer to tutorial for how to play a round), record the cumulative reward for each round, and plot the reward for each round. A sample plotting code is given below. Note that you must include code to play for 100 episodes and use the code to obtain round_results for plotting. DO NOT record the round results in advance and paste the results to the notebook."
      ]
    },
    {
      "cell_type": "code",
      "source": [
        "# Load model for demonstration\n",
        "def load_model(model, filename='DQN_policy_net.pth'):\n",
        "    model.load_state_dict(torch.load(filename))\n",
        "    return model\n",
        "\n",
        "policy_net = DQN(n_observations, n_actions).to(device)\n",
        "\n",
        "# Load the saved model state\n",
        "policy_net = load_model(policy_net)"
      ],
      "metadata": {
        "colab": {
          "base_uri": "https://localhost:8080/"
        },
        "id": "VdW6HWSby9GJ",
        "outputId": "b8910d02-1702-430a-9229-b58b4bee3a17"
      },
      "execution_count": null,
      "outputs": [
        {
          "output_type": "stream",
          "name": "stderr",
          "text": [
            "/usr/local/lib/python3.10/dist-packages/ipykernel/ipkernel.py:283: DeprecationWarning: `should_run_async` will not call `transform_cell` automatically in the future. Please pass the result to `transformed_cell` argument and any exception that happen during thetransform in `preprocessing_exc_tuple` in IPython 7.17 and above.\n",
            "  and should_run_async(code)\n"
          ]
        }
      ]
    },
    {
      "cell_type": "code",
      "source": [
        "def get_policy_action(state):\n",
        "    # Convert the state to a torch tensor and unsqueeze to add batch dimension\n",
        "    state_tensor = torch.tensor(state, dtype=torch.float32, device=device).unsqueeze(0)\n",
        "\n",
        "    # Use the policy network to predict the action values for the given state\n",
        "    with torch.no_grad():\n",
        "        action_values = policy_net(state_tensor)\n",
        "\n",
        "    # Choose the action with the highest predicted value\n",
        "    action = action_values.argmax().item()\n",
        "\n",
        "    return action"
      ],
      "metadata": {
        "id": "7Oi7lRm5t9Lo"
      },
      "execution_count": null,
      "outputs": []
    },
    {
      "cell_type": "code",
      "source": [
        "num_episodes = 100\n",
        "episode_results = []\n",
        "# Runs policy across 100 episodes for demonstration\n",
        "for i_episode in range(num_episodes):\n",
        "    # Initialize the environment and get its state\n",
        "    observation = env.reset()\n",
        "    total_steps = 0\n",
        "\n",
        "    while True:\n",
        "        # Calculate action with neural network\n",
        "        action = get_policy_action(observation)\n",
        "        total_steps+=1\n",
        "        # Get observation for next step and done for the event pole falls, reward and info not used\n",
        "        observation, reward, done, info = env.step(action)\n",
        "        if done:\n",
        "            episode_results.append(total_steps)\n",
        "            print(\"episode\" + str(i_episode) + \" || total steps: \"+str(total_steps))\n",
        "            break;\n",
        "\n"
      ],
      "metadata": {
        "id": "0SFwgnzstYhd",
        "colab": {
          "base_uri": "https://localhost:8080/"
        },
        "outputId": "1d30f3f8-13fb-4974-9625-1aae8ade3880"
      },
      "execution_count": null,
      "outputs": [
        {
          "output_type": "stream",
          "name": "stdout",
          "text": [
            "episode0 || total steps: 500\n",
            "episode1 || total steps: 497\n",
            "episode2 || total steps: 500\n",
            "episode3 || total steps: 500\n",
            "episode4 || total steps: 500\n",
            "episode5 || total steps: 500\n",
            "episode6 || total steps: 500\n",
            "episode7 || total steps: 488\n",
            "episode8 || total steps: 500\n",
            "episode9 || total steps: 497\n",
            "episode10 || total steps: 500\n",
            "episode11 || total steps: 500\n",
            "episode12 || total steps: 492\n",
            "episode13 || total steps: 500\n",
            "episode14 || total steps: 471\n",
            "episode15 || total steps: 500\n",
            "episode16 || total steps: 500\n",
            "episode17 || total steps: 500\n",
            "episode18 || total steps: 500\n",
            "episode19 || total steps: 500\n",
            "episode20 || total steps: 483\n",
            "episode21 || total steps: 500\n",
            "episode22 || total steps: 500\n",
            "episode23 || total steps: 500\n",
            "episode24 || total steps: 500\n",
            "episode25 || total steps: 484\n",
            "episode26 || total steps: 500\n",
            "episode27 || total steps: 500\n",
            "episode28 || total steps: 483\n",
            "episode29 || total steps: 500\n",
            "episode30 || total steps: 495\n",
            "episode31 || total steps: 500\n",
            "episode32 || total steps: 500\n",
            "episode33 || total steps: 500\n",
            "episode34 || total steps: 500\n",
            "episode35 || total steps: 472\n",
            "episode36 || total steps: 500\n",
            "episode37 || total steps: 477\n",
            "episode38 || total steps: 500\n",
            "episode39 || total steps: 500\n",
            "episode40 || total steps: 495\n",
            "episode41 || total steps: 472\n",
            "episode42 || total steps: 500\n",
            "episode43 || total steps: 500\n",
            "episode44 || total steps: 484\n",
            "episode45 || total steps: 474\n",
            "episode46 || total steps: 500\n",
            "episode47 || total steps: 468\n",
            "episode48 || total steps: 500\n",
            "episode49 || total steps: 500\n",
            "episode50 || total steps: 500\n",
            "episode51 || total steps: 500\n",
            "episode52 || total steps: 500\n",
            "episode53 || total steps: 500\n",
            "episode54 || total steps: 500\n",
            "episode55 || total steps: 500\n",
            "episode56 || total steps: 500\n",
            "episode57 || total steps: 499\n",
            "episode58 || total steps: 500\n",
            "episode59 || total steps: 500\n",
            "episode60 || total steps: 500\n",
            "episode61 || total steps: 500\n",
            "episode62 || total steps: 500\n",
            "episode63 || total steps: 500\n",
            "episode64 || total steps: 500\n",
            "episode65 || total steps: 496\n",
            "episode66 || total steps: 467\n",
            "episode67 || total steps: 500\n",
            "episode68 || total steps: 500\n",
            "episode69 || total steps: 483\n",
            "episode70 || total steps: 489\n",
            "episode71 || total steps: 500\n",
            "episode72 || total steps: 500\n",
            "episode73 || total steps: 500\n",
            "episode74 || total steps: 500\n",
            "episode75 || total steps: 500\n",
            "episode76 || total steps: 500\n",
            "episode77 || total steps: 500\n",
            "episode78 || total steps: 492\n",
            "episode79 || total steps: 500\n",
            "episode80 || total steps: 484\n",
            "episode81 || total steps: 482\n",
            "episode82 || total steps: 500\n",
            "episode83 || total steps: 500\n",
            "episode84 || total steps: 492\n",
            "episode85 || total steps: 500\n",
            "episode86 || total steps: 500\n",
            "episode87 || total steps: 500\n",
            "episode88 || total steps: 500\n",
            "episode89 || total steps: 489\n",
            "episode90 || total steps: 500\n",
            "episode91 || total steps: 500\n",
            "episode92 || total steps: 500\n",
            "episode93 || total steps: 475\n",
            "episode94 || total steps: 500\n",
            "episode95 || total steps: 500\n",
            "episode96 || total steps: 500\n",
            "episode97 || total steps: 500\n",
            "episode98 || total steps: 500\n",
            "episode99 || total steps: 500\n"
          ]
        }
      ]
    },
    {
      "cell_type": "code",
      "execution_count": null,
      "metadata": {
        "id": "uSRhV1hbdBvw"
      },
      "outputs": [],
      "source": [
        "plt.plot(episode_results)\n",
        "means = [sum(episode_results[i:i+10]) / 10 for i in range(0, len(episode_results), 10)]\n",
        "x_values = [i*10 for i in range(len(means))]\n",
        "plt.plot(x_values, means)\n",
        "plt.title('Cumulative reward for each episode')\n",
        "plt.ylabel('Cumulative reward')\n",
        "plt.xlabel('episode')\n",
        "plt.show()"
      ]
    },
    {
      "cell_type": "code",
      "execution_count": null,
      "metadata": {
        "id": "pOiOp9OYlo5Y",
        "colab": {
          "base_uri": "https://localhost:8080/"
        },
        "outputId": "438513c1-844a-4510-8c41-70468c38b5d0"
      },
      "outputs": [
        {
          "output_type": "stream",
          "name": "stdout",
          "text": [
            "Average cumulative reward: 495.8\n",
            "Is my agent good enough? True\n"
          ]
        },
        {
          "output_type": "stream",
          "name": "stderr",
          "text": [
            "/usr/local/lib/python3.10/dist-packages/ipykernel/ipkernel.py:283: DeprecationWarning: `should_run_async` will not call `transform_cell` automatically in the future. Please pass the result to `transformed_cell` argument and any exception that happen during thetransform in `preprocessing_exc_tuple` in IPython 7.17 and above.\n",
            "  and should_run_async(code)\n"
          ]
        }
      ],
      "source": [
        "# Average Cumulative Reward\n",
        "print(\"Average cumulative reward:\", sum(episode_results)/len(episode_results))\n",
        "print(\"Is my agent good enough?\", np.mean(episode_results) > 195)"
      ]
    },
    {
      "cell_type": "markdown",
      "metadata": {
        "id": "EB4zEF-MdBvy"
      },
      "source": [
        "## Task 3 (DQN): Render one episode played by the agent"
      ]
    },
    {
      "cell_type": "code",
      "source": [
        "def get_policy_action(state):\n",
        "    # Convert the state to a torch tensor and unsqueeze to add batch dimension\n",
        "    state_tensor = torch.tensor(state, dtype=torch.float32, device=device).unsqueeze(0)\n",
        "\n",
        "    # Use the policy network to predict the action values for the given state\n",
        "    with torch.no_grad():\n",
        "        action_values = policy_net(state_tensor)\n",
        "\n",
        "    # Choose the action with the highest predicted value\n",
        "    action = action_values.argmax().item()\n",
        "\n",
        "    return action"
      ],
      "metadata": {
        "id": "iGo0Wa1S8R7s"
      },
      "execution_count": null,
      "outputs": []
    },
    {
      "cell_type": "code",
      "execution_count": null,
      "metadata": {
        "colab": {
          "base_uri": "https://localhost:8080/",
          "height": 456
        },
        "outputId": "3db52bbc-5ade-417f-c237-a111b28097e8",
        "id": "XhPlj-ExdBvy"
      },
      "outputs": [
        {
          "output_type": "stream",
          "name": "stderr",
          "text": [
            "/usr/local/lib/python3.10/dist-packages/gym/utils/passive_env_checker.py:241: DeprecationWarning: `np.bool8` is a deprecated alias for `np.bool_`.  (Deprecated NumPy 1.24)\n",
            "  if not isinstance(terminated, (bool, np.bool8)):\n"
          ]
        },
        {
          "output_type": "display_data",
          "data": {
            "text/plain": [
              "<IPython.core.display.HTML object>"
            ],
            "text/html": [
              "<video alt=\"test\" autoplay\n",
              "                loop controls style=\"height: 400px;\">\n",
              "                <source src=\"data:video/mp4;base64,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\" type=\"video/mp4\" />\n",
              "             </video>"
            ]
          },
          "metadata": {}
        }
      ],
      "source": [
        "env = RecordVideo(gym.make(\"CartPole-v1\"), \"./video\")\n",
        "observation = env.reset()\n",
        "while True:\n",
        "    env.render()\n",
        "    action = get_policy_action(observation)\n",
        "    observation, reward, done, info = env.step(action)\n",
        "    if done:\n",
        "      break;\n",
        "env.close()\n",
        "show_video()"
      ]
    },
    {
      "cell_type": "markdown",
      "source": [
        "# Model 2 : Q-Learning"
      ],
      "metadata": {
        "id": "dDjI6dOc0WAb"
      }
    },
    {
      "cell_type": "markdown",
      "source": [
        "Q-learning agent determines an optimal action-value function directly from observations without the need of a model of the environment\\\n",
        "\\\n",
        "We will be calculating the reward differently for this model. The reward is computed based on how center the cartpole is.\\\n",
        "\\\n",
        "We will be adapting code from this library: https://github.com/JoeSnow7/Reinforcement-Learning/blob/master/Cartpole%20Q-learning.ipynb"
      ],
      "metadata": {
        "id": "eixr_2HG2Vxh"
      }
    },
    {
      "cell_type": "markdown",
      "metadata": {
        "id": "2oIzK9SzhlWN"
      },
      "source": [
        "## Task 1 (Q-Learning): Development of an RL agent"
      ]
    },
    {
      "cell_type": "markdown",
      "source": [
        "As Q-learning makes use of discrete states, a continous environment such as cartpole needs to be discretized and expressed as bins of states instead.\n",
        "\n",
        "We will make use of sklearn's discretizer library for this purpose. Note that we have limited the lower and upper bounds of angular velocity as the observation space is too large to be effeciently discretized and represented in the Q-table.\n",
        "\n",
        "The number of bins for pole angle is due to the fact that it ranges between (-24, 24) degrees, and hence the choice to have 1 degree per bin.\n",
        "The number of bins for cart velocity, cart position and pole angular velocity were arbitrary."
      ],
      "metadata": {
        "id": "BlVrd7P1ez7t"
      }
    },
    {
      "cell_type": "code",
      "execution_count": null,
      "metadata": {
        "id": "Xiw8FmI6Nn7L"
      },
      "outputs": [],
      "source": [
        "env = gym.make(\"CartPole-v1\")\n",
        "\n",
        "lower_bounds = [env.observation_space.low[i] for i in range(3)]\n",
        "upper_bounds = [env.observation_space.high[i] for i in range(3)]\n",
        "lower_bounds.append(-1.08)\n",
        "upper_bounds.append(1.08)\n",
        "\n",
        "# Number of bins to discretize each dimension of the observation space\n",
        "buckets = (5, 5, 48, 24)\n",
        "Q_table = np.zeros((5, 5, 48, 24, 2))\n",
        "\n",
        "from sklearn.preprocessing import KBinsDiscretizer\n",
        "def discretize_state(obs):\n",
        "    est = KBinsDiscretizer(n_bins=buckets,\n",
        "                          encode=\"ordinal\",\n",
        "                          strategy=\"uniform\",\n",
        "                          subsample=None)\n",
        "    est.fit([lower_bounds,upper_bounds])\n",
        "    discrete_state = tuple(map(int, (est.transform([obs])[0])))\n",
        "    return discrete_state"
      ]
    },
    {
      "cell_type": "markdown",
      "source": [
        "As we intend to reward the RL for being more \"centered\" rather than off-centre given all else constant, we will adjust the internal reward based on weighted observations of the next state.\n",
        "\n",
        "As such, we assigned an arbitrary weight to each observation with the exception of angular velocity. For the remaining 3 observations, the closer they are to 0, the higher the reward.\n",
        "\n",
        "For angular velocity itself, the reward is given depending if the agent chose to move in the same direction as the pole's fall."
      ],
      "metadata": {
        "id": "h3R9zGxEiEti"
      }
    },
    {
      "cell_type": "code",
      "source": [
        "def calculate_reward(obs, steps, action):\n",
        "    def calculate_reward_for_angular_velocity():\n",
        "        angular_velocity = obs[0][3]\n",
        "        # Check if action matches the direction of angular velocity (eg. moving left when pole is tilting left)\n",
        "        # Matches : Chosen action is contributing positively to stabilizing the pole\n",
        "        if (action==0) and (angular_velocity<0):\n",
        "            return 1\n",
        "        elif (action==1) and (angular_velocity>0):\n",
        "            return 1\n",
        "        else:\n",
        "          return -1\n",
        "\n",
        "    weights = np.array([0.1, 0.1, 0.8, 0])\n",
        "    observation = np.exp(-1 * abs(obs[0]))\n",
        "    # Take weighted sum of the transformed observation values\n",
        "    # Final reward includes reward from angular velocity => captures both current state and stability of agent's actions\n",
        "    reward = sum(x * y for x, y in zip(weights, observation)) + calculate_reward_for_angular_velocity()\n",
        "    return reward"
      ],
      "metadata": {
        "id": "f7fhWoBFiES-"
      },
      "execution_count": null,
      "outputs": []
    },
    {
      "cell_type": "markdown",
      "source": [
        "Next action ought to have a exponentially decaying chance to be random, which allows the RL to learn. First iteration requires it to be random and hence is set to 1 by default.\n",
        "\n",
        "Due to the size of the Q-table generated, heavy emphasis was placed on exploration for the RL. This is to ensure the agent explores episodes \"deeply\" and have higher coverage of the Q-table rather than overly optimizing the earlier stages of an episode.\\\n",
        "\n",
        "get_epsilon() was obtained from: https://github.com/JoeSnow7/Reinforcement-Learning/blob/master/Cartpole%20Q-learning.ipynb"
      ],
      "metadata": {
        "id": "FeiSuTgfjHcC"
      }
    },
    {
      "cell_type": "code",
      "source": [
        "min_epsilon = 0.5\n",
        "min_epi_to_explore = 200\n",
        "\n",
        "def get_epsilon(episode):\n",
        "    # Gets value for epsilon which declines as we advance in episodes.\n",
        "    # Ensures that there is almost at least a min_epsilon chance of randomly exploring\n",
        "    return max(min_epsilon, min(1., 1. - math.log10((episode + 1) / min_epi_to_explore)))\n",
        "\n",
        "def choose_action(current_state, episode):\n",
        "        if (np.random.random() < get_epsilon(episode)):\n",
        "            return env.action_space.sample() # Exploration, randomly sampling an action\n",
        "        else:\n",
        "            return np.argmax(Q_table[current_state]) # Exploitation, select action with highest Q-value for current state"
      ],
      "metadata": {
        "id": "AANU55nOjHtJ"
      },
      "execution_count": null,
      "outputs": []
    },
    {
      "cell_type": "markdown",
      "source": [
        "Similarly, the learning rate ought to decay in the same fashion as well.\n",
        "\n",
        "get_learning_rate() was obtained from: https://github.com/JoeSnow7/Reinforcement-Learning/blob/master/Cartpole%20Q-learning.ipynb"
      ],
      "metadata": {
        "id": "cKRfvL5qlkmz"
      }
    },
    {
      "cell_type": "code",
      "source": [
        "min_lr = 0.1 # Minimum threshold\n",
        "\n",
        "def get_learning_rate(episode):\n",
        "    # Gets value for learning rate which declines as we advance in episodes.\n",
        "    # Learning rate also declines as we add more episodes\n",
        "    return max(min_lr, min(1., 1. - math.log10((episode + 1) / min_epi_to_explore)))"
      ],
      "metadata": {
        "id": "LL_yuhTTlk_s"
      },
      "execution_count": null,
      "outputs": []
    },
    {
      "cell_type": "code",
      "source": [
        "def update_q_table(learning_rate, new_state, current_state, action, steps, discount=0.99):\n",
        "    def calculate_new_q():\n",
        "        current_q = Q_table[current_state][action]\n",
        "        # Q-learning update rule: Q(s,a)←Q(s,a)+α⋅(r+γ⋅max Q(s′,a′)−Q(s,a))\n",
        "        new_q = current_q + learning_rate*(reward + discount*np.max(Q_table[new_state]) - current_q)\n",
        "        return new_q\n",
        "\n",
        "    obs = env.step(action) # Execute action in environment\n",
        "    reward = calculate_reward(obs, steps, action)\n",
        "\n",
        "    Q_table[current_state][action] = calculate_new_q() # Store updated Q-value\n",
        "    return True"
      ],
      "metadata": {
        "id": "DDP_npRAnF83"
      },
      "execution_count": null,
      "outputs": []
    },
    {
      "cell_type": "markdown",
      "metadata": {
        "id": "G0UQ5oQaiz4_"
      },
      "source": [
        "**Q Learning off-policy training**\n",
        "\n",
        "Structure was adapted from :https://github.com/JoeSnow7/Reinforcement-Learning/blob/master/Cartpole%20Q-learning.ipynb"
      ]
    },
    {
      "cell_type": "code",
      "execution_count": null,
      "metadata": {
        "id": "DNFN04vJ1GG_",
        "colab": {
          "base_uri": "https://localhost:8080/"
        },
        "outputId": "ea82f158-f613-4a7c-ffa7-d0c3c5b3750f"
      },
      "outputs": [
        {
          "output_type": "stream",
          "name": "stderr",
          "text": [
            "/usr/local/lib/python3.10/dist-packages/gym/utils/passive_env_checker.py:241: DeprecationWarning: `np.bool8` is a deprecated alias for `np.bool_`.  (Deprecated NumPy 1.24)\n",
            "  if not isinstance(terminated, (bool, np.bool8)):\n"
          ]
        },
        {
          "output_type": "stream",
          "name": "stdout",
          "text": [
            "Episode 100 , No. of steps: 8.0\n",
            "Episode 200 , No. of steps: 11.0\n",
            "Episode 300 , No. of steps: 9.0\n",
            "Episode 400 , No. of steps: 11.0\n",
            "Episode 500 , No. of steps: 11.0\n",
            "Episode 600 , No. of steps: 9.0\n",
            "Episode 700 , No. of steps: 15.0\n",
            "Episode 800 , No. of steps: 35.0\n",
            "Episode 900 , No. of steps: 29.0\n",
            "Episode 1000 , No. of steps: 26.0\n",
            "Finished training!\n"
          ]
        }
      ],
      "source": [
        "num_episodes = 1000\n",
        "steps = np.zeros(num_episodes)\n",
        "\n",
        "# Training function\n",
        "def train():\n",
        "    # Looping for each episode\n",
        "    for e in range(num_episodes):\n",
        "        # Initializes the state\n",
        "        current_state = discretize_state(env.reset())\n",
        "        learning_rate = get_learning_rate(e)\n",
        "        epsilon = get_epsilon(e)\n",
        "        done = False\n",
        "        # Looping for each step\n",
        "        while not done:\n",
        "            steps[e] += 1\n",
        "            # Choose action from currrent state\n",
        "            action = choose_action(current_state, e)\n",
        "            # Execute action in environment\n",
        "            obs, reward, done, _ = env.step(action)\n",
        "            new_state = discretize_state(obs)\n",
        "            # Update Q(S,A)\n",
        "            if not update_q_table(learning_rate, new_state, current_state, action, steps[e]):\n",
        "                print('Failed to update Q_table')\n",
        "            current_state = new_state\n",
        "        if (e+1)%100==0:\n",
        "          print(\"Episode\", e+1, \", No. of steps:\", steps[e])\n",
        "    print('Finished training!')\n",
        "train()"
      ]
    },
    {
      "cell_type": "code",
      "source": [
        "for i in range(1,100,50):\n",
        "  print(f\"episode {i} cul steps {steps[i]}\" )\n",
        "\n",
        "plt.plot(steps)"
      ],
      "metadata": {
        "colab": {
          "base_uri": "https://localhost:8080/",
          "height": 482
        },
        "id": "3fqZOH3lovo6",
        "outputId": "bd468bdd-33ca-4a35-8ea7-83063eaa7696"
      },
      "execution_count": null,
      "outputs": [
        {
          "output_type": "stream",
          "name": "stdout",
          "text": [
            "episode 1 cul steps 6.0\n",
            "episode 51 cul steps 19.0\n"
          ]
        },
        {
          "output_type": "execute_result",
          "data": {
            "text/plain": [
              "[<matplotlib.lines.Line2D at 0x7dc02164cb20>]"
            ]
          },
          "metadata": {},
          "execution_count": 9
        },
        {
          "output_type": "display_data",
          "data": {
            "text/plain": [
              "<Figure size 640x480 with 1 Axes>"
            ],
            "image/png": "[encoded data removed]"
          },
          "metadata": {}
        }
      ]
    },
    {
      "cell_type": "markdown",
      "metadata": {
        "id": "-XtIQ0Rti1gm"
      },
      "source": [
        "## Task 2 (Q-Learning): Demonstrate the effectiveness of the RL agent"
      ]
    },
    {
      "cell_type": "markdown",
      "metadata": {
        "id": "djBEShf0kGI4"
      },
      "source": [
        "For this task, use the agent developed in Task 1 to play the game for 100 episodes (refer to tutorial for how to play a round), record the cumulative reward for each round, and plot the reward for each round. A sample plotting code is given below. Note that you must include code to play for 100 episodes and use the code to obtain round_results for plotting. DO NOT record the round results in advance and paste the results to the notebook."
      ]
    },
    {
      "cell_type": "code",
      "execution_count": null,
      "metadata": {
        "colab": {
          "base_uri": "https://localhost:8080/",
          "height": 656
        },
        "id": "RZrCKywQi6CE",
        "outputId": "8181edf5-980c-408e-e34d-da8722e3e763"
      },
      "outputs": [
        {
          "output_type": "stream",
          "name": "stdout",
          "text": [
            "episode 0 cul steps 500.0\n",
            "episode 10 cul steps 173.0\n",
            "episode 20 cul steps 285.0\n",
            "episode 30 cul steps 306.0\n",
            "episode 40 cul steps 500.0\n",
            "episode 50 cul steps 378.0\n",
            "episode 60 cul steps 500.0\n",
            "episode 70 cul steps 500.0\n",
            "episode 80 cul steps 448.0\n",
            "episode 90 cul steps 478.0\n",
            "Average cumulative reward: 331.34\n",
            "Is my agent good enough? True\n"
          ]
        },
        {
          "output_type": "execute_result",
          "data": {
            "text/plain": [
              "[<matplotlib.lines.Line2D at 0x7dc01f549f60>]"
            ]
          },
          "metadata": {},
          "execution_count": 10
        },
        {
          "output_type": "display_data",
          "data": {
            "text/plain": [
              "<Figure size 640x480 with 1 Axes>"
            ],
            "image/png": "[encoded data removed]"
          },
          "metadata": {}
        }
      ],
      "source": [
        "num_episodes = 100\n",
        "steps = np.zeros(num_episodes)\n",
        "\n",
        "for e in range(num_episodes):\n",
        "    current_state = discretize_state(env.reset())\n",
        "    done = False\n",
        "    while not done:\n",
        "        #Choose optimal action\n",
        "        action = np.argmax(Q_table[current_state])\n",
        "        steps[e] += 1\n",
        "        obs, reward, done, _ = env.step(action)\n",
        "        new_state = discretize_state(obs)\n",
        "        #Update state\n",
        "        current_state = new_state\n",
        "    if not e%10:\n",
        "      print(f\"episode {e} cul steps {steps[e]}\" )\n",
        "\n",
        "print(f'Average cumulative reward: {sum(steps)/num_episodes}')\n",
        "print(\"Is my agent good enough?\", np.mean(steps)>195 )\n",
        "plt.plot(steps)\n"
      ]
    },
    {
      "cell_type": "markdown",
      "metadata": {
        "id": "Yg0DCT38lFA6"
      },
      "source": [
        "## Task 3 (Q-Learning): Render one episode played by the agent"
      ]
    },
    {
      "cell_type": "code",
      "execution_count": null,
      "metadata": {
        "colab": {
          "base_uri": "https://localhost:8080/",
          "height": 493
        },
        "id": "LYyavfbIa47D",
        "outputId": "ea8085d1-511c-4f75-bb79-9b5b13445e7b"
      },
      "outputs": [
        {
          "output_type": "stream",
          "name": "stderr",
          "text": [
            "/usr/local/lib/python3.10/dist-packages/gym/utils/passive_env_checker.py:241: DeprecationWarning: `np.bool8` is a deprecated alias for `np.bool_`.  (Deprecated NumPy 1.24)\n",
            "  if not isinstance(terminated, (bool, np.bool8)):\n"
          ]
        },
        {
          "output_type": "stream",
          "name": "stdout",
          "text": [
            " steps taken: 467\n"
          ]
        },
        {
          "output_type": "display_data",
          "data": {
            "text/plain": [
              "<IPython.core.display.HTML object>"
            ],
            "text/html": [
              "<video alt=\"test\" autoplay\n",
              "                loop controls style=\"height: 400px;\">\n",
              "                <source src=\"data:video/mp4;base64,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\" type=\"video/mp4\" />\n",
              "             </video>"
            ]
          },
          "metadata": {}
        }
      ],
      "source": [
        "env = RecordVideo(gym.make(\"CartPole-v1\"), \"./video\")\n",
        "observation = env.reset()\n",
        "steps=0\n",
        "\n",
        "while True:\n",
        "    env.render()\n",
        "    action = np.argmax(Q_table[current_state])\n",
        "    observation, reward, done, _ = env.step(action)\n",
        "\n",
        "    new_state = discretize_state(observation)\n",
        "    current_state = new_state\n",
        "\n",
        "    steps+=1\n",
        "    if done:\n",
        "      break;\n",
        "\n",
        "print(f' steps taken: {steps}')\n",
        "env.close()\n",
        "show_video()"
      ]
    },
    {
      "cell_type": "markdown",
      "source": [
        "# **Evaluation**\n",
        "\n",
        "Both agents performed well for testing despite relatively poorer performance for training. This could be attributed to the following reasons: \\\n",
        "1. CartPole has relatively simple dynamics compared to other more sophisticated environments. It has a low-dimensional state-space with deterministic dynamics. Therefore, even with limited exploration during training, the agent may still learn a reasonably good policy which generalizes well to new states.\n",
        "2. CartPole provides a sparse reward signal. The agent is awarded a reward of +1 for every timestep the pole is balanced and receives no other rewards. The sparse reward signal motivates the agent to focus on the main task of balancing the pole, which may be relatively easier to learn compared to environments with more complex reward signals.\n",
        "\\\n",
        "\\\n",
        "Thank you!"
      ],
      "metadata": {
        "id": "ds11J14v540o"
      }
    },
    {
      "cell_type": "markdown",
      "source": [
        "# **References**\n",
        "DQN: https://pytorch.org/tutorials/intermediate/reinforcement_q_learning.html\n",
        "\n",
        "Q-learning: \\\n",
        "https://github.com/johnnycode8/gym_solutions/blob/main/cartpole_q.py \\\n",
        "https://github.com/JoeSnow7/Reinforcement-Learning/blob/master/Cartpole%20Q-learning.ipynb"
      ],
      "metadata": {
        "id": "MF_Ym0Ypcl7_"
      }
    }
  ],
  "metadata": {
    "colab": {
      "provenance": [],
      "toc_visible": true
    },
    "kernelspec": {
      "display_name": "Python 3",
      "name": "python3"
    },
    "language_info": {
      "name": "python"
    }
  },
  "nbformat": 4,
  "nbformat_minor": 0
}
